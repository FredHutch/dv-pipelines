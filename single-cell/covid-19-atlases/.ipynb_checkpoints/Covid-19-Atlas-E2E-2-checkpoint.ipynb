{
 "cells": [
  {
   "cell_type": "code",
   "execution_count": 1,
   "metadata": {},
   "outputs": [],
   "source": [
    "import argparse\n",
    "import logging\n",
    "from operator import mul\n",
    "import time\n",
    "import os\n",
    "\n",
    "import pubweb.singlecell # import AnnDataSparse\n",
    "from pubweb.hdf5 import Hdf5\n",
    "from pubweb.commands.convert.singlecell.anndata import ImportAnndata\n",
    "from pubweb.commands.convert.singlecell.cellranger import ImportCellRanger\n",
    "from pubweb.commands.validate.dimensions import ValidateDimensions\n",
    "from pubweb.commands.annotate.geneid import AnnotateGeneId\n",
    "from pubweb.commands.annotate.geneset import AnnotateGeneset\n",
    "from pubweb.commands.export.lists import ExportLists\n",
    "from pubweb.commands.export.attributes import ExportAttributes\n",
    "from pubweb.commands.export.tables import ExportTables\n",
    "from pubweb.commands.export.projections import ExportProjections\n",
    "from pubweb.commands.export.spatial import ExportSpatial\n",
    "from pubweb.commands.export.matrix_sparse import ExportMatrixSparse\n",
    "from pubweb.commands.export.matrix_dense import ExportMatrixDense\n",
    "from pubweb.commands.summarize.genes import SummarizeGenes\n",
    "from pubweb.commands.summarize.genemap import SummarizeGeneMap\n",
    "from pubweb.commands.summarize.colors import SummarizeColors\n",
    "from pubweb.commands.summarize.manifest import SummerizeManifest\n"
   ]
  },
  {
   "cell_type": "code",
   "execution_count": 2,
   "metadata": {},
   "outputs": [
    {
     "data": {
      "text/plain": [
       "<module 'pubweb.commands.summarize.manifest' from '/root/anaconda3/lib/python3.8/site-packages/pubweb/commands/summarize/manifest.py'>"
      ]
     },
     "execution_count": 2,
     "metadata": {},
     "output_type": "execute_result"
    }
   ],
   "source": [
    "import importlib\n",
    "\n",
    "importlib.reload(pubweb.singlecell)\n",
    "importlib.reload(pubweb.hdf5)\n",
    "importlib.reload(pubweb.commands.convert.singlecell.anndata)\n",
    "importlib.reload(pubweb.commands.convert.singlecell.cellranger)\n",
    "importlib.reload(pubweb.commands.validate.dimensions)\n",
    "importlib.reload(pubweb.commands.annotate.geneid)\n",
    "importlib.reload(pubweb.commands.annotate.geneset)\n",
    "importlib.reload(pubweb.commands.export)\n",
    "importlib.reload(pubweb.commands.export.lists)\n",
    "importlib.reload(pubweb.commands.export.attributes)\n",
    "importlib.reload(pubweb.commands.export.tables)\n",
    "importlib.reload(pubweb.commands.export.projections)\n",
    "importlib.reload(pubweb.commands.export.spatial)\n",
    "importlib.reload(pubweb.commands.export.matrix_sparse)\n",
    "importlib.reload(pubweb.commands.export.matrix_dense)\n",
    "importlib.reload(pubweb.commands.summarize.genes)\n",
    "importlib.reload(pubweb.commands.summarize.genemap)\n",
    "importlib.reload(pubweb.commands.summarize.colors)\n",
    "importlib.reload(pubweb.commands.summarize.manifest)\n"
   ]
  },
  {
   "cell_type": "code",
   "execution_count": 3,
   "metadata": {},
   "outputs": [],
   "source": [
    "logging.basicConfig(level='DEBUG')"
   ]
  },
  {
   "cell_type": "code",
   "execution_count": 4,
   "metadata": {},
   "outputs": [],
   "source": [
    "datasetName='lung-upper-airway-h1299'\n",
    "inputFile = '/data/notebooks/input/convert.hdf5'\n",
    "outputFolder = '/data/notebooks/pubweb'\n",
    "species = 'human'\n",
    "overwriteHdf5 = True\n",
    "python_wd = '/opt/pubweb'\n"
   ]
  },
  {
   "cell_type": "code",
   "execution_count": 5,
   "metadata": {},
   "outputs": [],
   "source": [
    "#dir(pubweb.singlecell)"
   ]
  },
  {
   "cell_type": "raw",
   "metadata": {},
   "source": [
    "pubweb.singlecell.AnnDataSparse(\n",
    "    inputFile=inputFile,\n",
    "    outputFolder=outputFolder,\n",
    "    datasetName=datasetName,\n",
    "    species=species)"
   ]
  },
  {
   "cell_type": "code",
   "execution_count": 6,
   "metadata": {},
   "outputs": [],
   "source": [
    "# anndatasparse\n",
    "outputFile = f'{outputFolder}/pubweb.hdf5'\n",
    "if os.path.exists(outputFile) and overwriteHdf5:\n",
    "    os.remove(outputFile)\n",
    "hdf5 = Hdf5.load(outputFile, \"a\")"
   ]
  },
  {
   "cell_type": "code",
   "execution_count": 7,
   "metadata": {},
   "outputs": [
    {
     "data": {
      "text/plain": [
       "'/data/notebooks/pubweb/pubweb.hdf5'"
      ]
     },
     "execution_count": 7,
     "metadata": {},
     "output_type": "execute_result"
    }
   ],
   "source": [
    "hdf5.uri"
   ]
  },
  {
   "cell_type": "code",
   "execution_count": 8,
   "metadata": {},
   "outputs": [
    {
     "name": "stdout",
     "output_type": "stream",
     "text": [
      "CPU times: user 464 ms, sys: 6.55 s, total: 7.01 s\n",
      "Wall time: 6.97 s\n"
     ]
    },
    {
     "data": {
      "text/plain": [
       "<pubweb.hdf5.LocalHdf5 at 0x7ff519147e20>"
      ]
     },
     "execution_count": 8,
     "metadata": {},
     "output_type": "execute_result"
    }
   ],
   "source": [
    "%time hdf5 | ImportAnndata(inputFile, datasetName)\n",
    "# 345"
   ]
  },
  {
   "cell_type": "code",
   "execution_count": 9,
   "metadata": {},
   "outputs": [
    {
     "data": {
      "text/plain": [
       "['pubweb/lung-upper-airway-h1299']"
      ]
     },
     "execution_count": 9,
     "metadata": {},
     "output_type": "execute_result"
    }
   ],
   "source": [
    "hdf5.getDatasets()"
   ]
  },
  {
   "cell_type": "code",
   "execution_count": 10,
   "metadata": {},
   "outputs": [
    {
     "data": {
      "text/plain": [
       "<HDF5 dataset \"matrix\": shape (81736, 27072), type \"<f4\">"
      ]
     },
     "execution_count": 10,
     "metadata": {},
     "output_type": "execute_result"
    }
   ],
   "source": [
    "hdf5.h5py['pubweb/lung-upper-airway-h1299/matrix']"
   ]
  },
  {
   "cell_type": "code",
   "execution_count": 11,
   "metadata": {},
   "outputs": [
    {
     "name": "stderr",
     "output_type": "stream",
     "text": [
      "INFO:root:AnnotateGeneId: pubweb/lung-upper-airway-h1299/features/gene\n"
     ]
    },
    {
     "name": "stdout",
     "output_type": "stream",
     "text": [
      "Annotate Gene Id\n"
     ]
    },
    {
     "name": "stderr",
     "output_type": "stream",
     "text": [
      "DEBUG:urllib3.connectionpool:Starting new HTTP connection (1): mygene.info:80\n"
     ]
    },
    {
     "name": "stdout",
     "output_type": "stream",
     "text": [
      "querying 1-1000..."
     ]
    },
    {
     "name": "stderr",
     "output_type": "stream",
     "text": [
      "DEBUG:urllib3.connectionpool:http://mygene.info:80 \"POST /v3/query/ HTTP/1.1\" 200 None\n"
     ]
    },
    {
     "name": "stdout",
     "output_type": "stream",
     "text": [
      "done.\n"
     ]
    },
    {
     "name": "stderr",
     "output_type": "stream",
     "text": [
      "DEBUG:urllib3.connectionpool:Starting new HTTP connection (1): mygene.info:80\n"
     ]
    },
    {
     "name": "stdout",
     "output_type": "stream",
     "text": [
      "querying 1001-2000..."
     ]
    },
    {
     "name": "stderr",
     "output_type": "stream",
     "text": [
      "DEBUG:urllib3.connectionpool:http://mygene.info:80 \"POST /v3/query/ HTTP/1.1\" 200 None\n"
     ]
    },
    {
     "name": "stdout",
     "output_type": "stream",
     "text": [
      "done.\n"
     ]
    },
    {
     "name": "stderr",
     "output_type": "stream",
     "text": [
      "DEBUG:urllib3.connectionpool:Starting new HTTP connection (1): mygene.info:80\n"
     ]
    },
    {
     "name": "stdout",
     "output_type": "stream",
     "text": [
      "querying 2001-3000..."
     ]
    },
    {
     "name": "stderr",
     "output_type": "stream",
     "text": [
      "DEBUG:urllib3.connectionpool:http://mygene.info:80 \"POST /v3/query/ HTTP/1.1\" 200 None\n"
     ]
    },
    {
     "name": "stdout",
     "output_type": "stream",
     "text": [
      "done.\n"
     ]
    },
    {
     "name": "stderr",
     "output_type": "stream",
     "text": [
      "DEBUG:urllib3.connectionpool:Starting new HTTP connection (1): mygene.info:80\n"
     ]
    },
    {
     "name": "stdout",
     "output_type": "stream",
     "text": [
      "querying 3001-4000..."
     ]
    },
    {
     "name": "stderr",
     "output_type": "stream",
     "text": [
      "DEBUG:urllib3.connectionpool:http://mygene.info:80 \"POST /v3/query/ HTTP/1.1\" 200 None\n"
     ]
    },
    {
     "name": "stdout",
     "output_type": "stream",
     "text": [
      "done.\n"
     ]
    },
    {
     "name": "stderr",
     "output_type": "stream",
     "text": [
      "DEBUG:urllib3.connectionpool:Starting new HTTP connection (1): mygene.info:80\n"
     ]
    },
    {
     "name": "stdout",
     "output_type": "stream",
     "text": [
      "querying 4001-5000..."
     ]
    },
    {
     "name": "stderr",
     "output_type": "stream",
     "text": [
      "DEBUG:urllib3.connectionpool:http://mygene.info:80 \"POST /v3/query/ HTTP/1.1\" 200 None\n"
     ]
    },
    {
     "name": "stdout",
     "output_type": "stream",
     "text": [
      "done.\n"
     ]
    },
    {
     "name": "stderr",
     "output_type": "stream",
     "text": [
      "DEBUG:urllib3.connectionpool:Starting new HTTP connection (1): mygene.info:80\n"
     ]
    },
    {
     "name": "stdout",
     "output_type": "stream",
     "text": [
      "querying 5001-6000..."
     ]
    },
    {
     "name": "stderr",
     "output_type": "stream",
     "text": [
      "DEBUG:urllib3.connectionpool:http://mygene.info:80 \"POST /v3/query/ HTTP/1.1\" 200 None\n"
     ]
    },
    {
     "name": "stdout",
     "output_type": "stream",
     "text": [
      "done.\n"
     ]
    },
    {
     "name": "stderr",
     "output_type": "stream",
     "text": [
      "DEBUG:urllib3.connectionpool:Starting new HTTP connection (1): mygene.info:80\n"
     ]
    },
    {
     "name": "stdout",
     "output_type": "stream",
     "text": [
      "querying 6001-7000..."
     ]
    },
    {
     "name": "stderr",
     "output_type": "stream",
     "text": [
      "DEBUG:urllib3.connectionpool:http://mygene.info:80 \"POST /v3/query/ HTTP/1.1\" 200 None\n"
     ]
    },
    {
     "name": "stdout",
     "output_type": "stream",
     "text": [
      "done.\n"
     ]
    },
    {
     "name": "stderr",
     "output_type": "stream",
     "text": [
      "DEBUG:urllib3.connectionpool:Starting new HTTP connection (1): mygene.info:80\n"
     ]
    },
    {
     "name": "stdout",
     "output_type": "stream",
     "text": [
      "querying 7001-8000..."
     ]
    },
    {
     "name": "stderr",
     "output_type": "stream",
     "text": [
      "DEBUG:urllib3.connectionpool:http://mygene.info:80 \"POST /v3/query/ HTTP/1.1\" 200 None\n"
     ]
    },
    {
     "name": "stdout",
     "output_type": "stream",
     "text": [
      "done.\n"
     ]
    },
    {
     "name": "stderr",
     "output_type": "stream",
     "text": [
      "DEBUG:urllib3.connectionpool:Starting new HTTP connection (1): mygene.info:80\n"
     ]
    },
    {
     "name": "stdout",
     "output_type": "stream",
     "text": [
      "querying 8001-9000..."
     ]
    },
    {
     "name": "stderr",
     "output_type": "stream",
     "text": [
      "DEBUG:urllib3.connectionpool:http://mygene.info:80 \"POST /v3/query/ HTTP/1.1\" 200 None\n"
     ]
    },
    {
     "name": "stdout",
     "output_type": "stream",
     "text": [
      "done.\n"
     ]
    },
    {
     "name": "stderr",
     "output_type": "stream",
     "text": [
      "DEBUG:urllib3.connectionpool:Starting new HTTP connection (1): mygene.info:80\n"
     ]
    },
    {
     "name": "stdout",
     "output_type": "stream",
     "text": [
      "querying 9001-10000..."
     ]
    },
    {
     "name": "stderr",
     "output_type": "stream",
     "text": [
      "DEBUG:urllib3.connectionpool:http://mygene.info:80 \"POST /v3/query/ HTTP/1.1\" 200 None\n"
     ]
    },
    {
     "name": "stdout",
     "output_type": "stream",
     "text": [
      "done.\n"
     ]
    },
    {
     "name": "stderr",
     "output_type": "stream",
     "text": [
      "DEBUG:urllib3.connectionpool:Starting new HTTP connection (1): mygene.info:80\n"
     ]
    },
    {
     "name": "stdout",
     "output_type": "stream",
     "text": [
      "querying 10001-11000..."
     ]
    },
    {
     "name": "stderr",
     "output_type": "stream",
     "text": [
      "DEBUG:urllib3.connectionpool:http://mygene.info:80 \"POST /v3/query/ HTTP/1.1\" 200 None\n"
     ]
    },
    {
     "name": "stdout",
     "output_type": "stream",
     "text": [
      "done.\n"
     ]
    },
    {
     "name": "stderr",
     "output_type": "stream",
     "text": [
      "DEBUG:urllib3.connectionpool:Starting new HTTP connection (1): mygene.info:80\n"
     ]
    },
    {
     "name": "stdout",
     "output_type": "stream",
     "text": [
      "querying 11001-12000..."
     ]
    },
    {
     "name": "stderr",
     "output_type": "stream",
     "text": [
      "DEBUG:urllib3.connectionpool:http://mygene.info:80 \"POST /v3/query/ HTTP/1.1\" 200 None\n"
     ]
    },
    {
     "name": "stdout",
     "output_type": "stream",
     "text": [
      "done.\n"
     ]
    },
    {
     "name": "stderr",
     "output_type": "stream",
     "text": [
      "DEBUG:urllib3.connectionpool:Starting new HTTP connection (1): mygene.info:80\n"
     ]
    },
    {
     "name": "stdout",
     "output_type": "stream",
     "text": [
      "querying 12001-13000..."
     ]
    },
    {
     "name": "stderr",
     "output_type": "stream",
     "text": [
      "DEBUG:urllib3.connectionpool:http://mygene.info:80 \"POST /v3/query/ HTTP/1.1\" 200 None\n"
     ]
    },
    {
     "name": "stdout",
     "output_type": "stream",
     "text": [
      "done.\n"
     ]
    },
    {
     "name": "stderr",
     "output_type": "stream",
     "text": [
      "DEBUG:urllib3.connectionpool:Starting new HTTP connection (1): mygene.info:80\n"
     ]
    },
    {
     "name": "stdout",
     "output_type": "stream",
     "text": [
      "querying 13001-14000..."
     ]
    },
    {
     "name": "stderr",
     "output_type": "stream",
     "text": [
      "DEBUG:urllib3.connectionpool:http://mygene.info:80 \"POST /v3/query/ HTTP/1.1\" 200 None\n"
     ]
    },
    {
     "name": "stdout",
     "output_type": "stream",
     "text": [
      "done.\n"
     ]
    },
    {
     "name": "stderr",
     "output_type": "stream",
     "text": [
      "DEBUG:urllib3.connectionpool:Starting new HTTP connection (1): mygene.info:80\n"
     ]
    },
    {
     "name": "stdout",
     "output_type": "stream",
     "text": [
      "querying 14001-15000..."
     ]
    },
    {
     "name": "stderr",
     "output_type": "stream",
     "text": [
      "DEBUG:urllib3.connectionpool:http://mygene.info:80 \"POST /v3/query/ HTTP/1.1\" 200 None\n"
     ]
    },
    {
     "name": "stdout",
     "output_type": "stream",
     "text": [
      "done.\n"
     ]
    },
    {
     "name": "stderr",
     "output_type": "stream",
     "text": [
      "DEBUG:urllib3.connectionpool:Starting new HTTP connection (1): mygene.info:80\n"
     ]
    },
    {
     "name": "stdout",
     "output_type": "stream",
     "text": [
      "querying 15001-16000..."
     ]
    },
    {
     "name": "stderr",
     "output_type": "stream",
     "text": [
      "DEBUG:urllib3.connectionpool:http://mygene.info:80 \"POST /v3/query/ HTTP/1.1\" 200 None\n"
     ]
    },
    {
     "name": "stdout",
     "output_type": "stream",
     "text": [
      "done.\n"
     ]
    },
    {
     "name": "stderr",
     "output_type": "stream",
     "text": [
      "DEBUG:urllib3.connectionpool:Starting new HTTP connection (1): mygene.info:80\n"
     ]
    },
    {
     "name": "stdout",
     "output_type": "stream",
     "text": [
      "querying 16001-17000..."
     ]
    },
    {
     "name": "stderr",
     "output_type": "stream",
     "text": [
      "DEBUG:urllib3.connectionpool:http://mygene.info:80 \"POST /v3/query/ HTTP/1.1\" 200 None\n"
     ]
    },
    {
     "name": "stdout",
     "output_type": "stream",
     "text": [
      "done.\n"
     ]
    },
    {
     "name": "stderr",
     "output_type": "stream",
     "text": [
      "DEBUG:urllib3.connectionpool:Starting new HTTP connection (1): mygene.info:80\n"
     ]
    },
    {
     "name": "stdout",
     "output_type": "stream",
     "text": [
      "querying 17001-18000..."
     ]
    },
    {
     "name": "stderr",
     "output_type": "stream",
     "text": [
      "DEBUG:urllib3.connectionpool:http://mygene.info:80 \"POST /v3/query/ HTTP/1.1\" 200 None\n"
     ]
    },
    {
     "name": "stdout",
     "output_type": "stream",
     "text": [
      "done.\n"
     ]
    },
    {
     "name": "stderr",
     "output_type": "stream",
     "text": [
      "DEBUG:urllib3.connectionpool:Starting new HTTP connection (1): mygene.info:80\n"
     ]
    },
    {
     "name": "stdout",
     "output_type": "stream",
     "text": [
      "querying 18001-19000..."
     ]
    },
    {
     "name": "stderr",
     "output_type": "stream",
     "text": [
      "DEBUG:urllib3.connectionpool:http://mygene.info:80 \"POST /v3/query/ HTTP/1.1\" 200 None\n"
     ]
    },
    {
     "name": "stdout",
     "output_type": "stream",
     "text": [
      "done.\n"
     ]
    },
    {
     "name": "stderr",
     "output_type": "stream",
     "text": [
      "DEBUG:urllib3.connectionpool:Starting new HTTP connection (1): mygene.info:80\n"
     ]
    },
    {
     "name": "stdout",
     "output_type": "stream",
     "text": [
      "querying 19001-20000..."
     ]
    },
    {
     "name": "stderr",
     "output_type": "stream",
     "text": [
      "DEBUG:urllib3.connectionpool:http://mygene.info:80 \"POST /v3/query/ HTTP/1.1\" 200 None\n"
     ]
    },
    {
     "name": "stdout",
     "output_type": "stream",
     "text": [
      "done.\n"
     ]
    },
    {
     "name": "stderr",
     "output_type": "stream",
     "text": [
      "DEBUG:urllib3.connectionpool:Starting new HTTP connection (1): mygene.info:80\n"
     ]
    },
    {
     "name": "stdout",
     "output_type": "stream",
     "text": [
      "querying 20001-21000..."
     ]
    },
    {
     "name": "stderr",
     "output_type": "stream",
     "text": [
      "DEBUG:urllib3.connectionpool:http://mygene.info:80 \"POST /v3/query/ HTTP/1.1\" 200 None\n"
     ]
    },
    {
     "name": "stdout",
     "output_type": "stream",
     "text": [
      "done.\n"
     ]
    },
    {
     "name": "stderr",
     "output_type": "stream",
     "text": [
      "DEBUG:urllib3.connectionpool:Starting new HTTP connection (1): mygene.info:80\n"
     ]
    },
    {
     "name": "stdout",
     "output_type": "stream",
     "text": [
      "querying 21001-22000..."
     ]
    },
    {
     "name": "stderr",
     "output_type": "stream",
     "text": [
      "DEBUG:urllib3.connectionpool:http://mygene.info:80 \"POST /v3/query/ HTTP/1.1\" 200 None\n"
     ]
    },
    {
     "name": "stdout",
     "output_type": "stream",
     "text": [
      "done.\n"
     ]
    },
    {
     "name": "stderr",
     "output_type": "stream",
     "text": [
      "DEBUG:urllib3.connectionpool:Starting new HTTP connection (1): mygene.info:80\n"
     ]
    },
    {
     "name": "stdout",
     "output_type": "stream",
     "text": [
      "querying 22001-23000..."
     ]
    },
    {
     "name": "stderr",
     "output_type": "stream",
     "text": [
      "DEBUG:urllib3.connectionpool:http://mygene.info:80 \"POST /v3/query/ HTTP/1.1\" 200 None\n"
     ]
    },
    {
     "name": "stdout",
     "output_type": "stream",
     "text": [
      "done.\n"
     ]
    },
    {
     "name": "stderr",
     "output_type": "stream",
     "text": [
      "DEBUG:urllib3.connectionpool:Starting new HTTP connection (1): mygene.info:80\n"
     ]
    },
    {
     "name": "stdout",
     "output_type": "stream",
     "text": [
      "querying 23001-24000..."
     ]
    },
    {
     "name": "stderr",
     "output_type": "stream",
     "text": [
      "DEBUG:urllib3.connectionpool:http://mygene.info:80 \"POST /v3/query/ HTTP/1.1\" 200 None\n"
     ]
    },
    {
     "name": "stdout",
     "output_type": "stream",
     "text": [
      "done.\n"
     ]
    },
    {
     "name": "stderr",
     "output_type": "stream",
     "text": [
      "DEBUG:urllib3.connectionpool:Starting new HTTP connection (1): mygene.info:80\n"
     ]
    },
    {
     "name": "stdout",
     "output_type": "stream",
     "text": [
      "querying 24001-25000..."
     ]
    },
    {
     "name": "stderr",
     "output_type": "stream",
     "text": [
      "DEBUG:urllib3.connectionpool:http://mygene.info:80 \"POST /v3/query/ HTTP/1.1\" 200 None\n"
     ]
    },
    {
     "name": "stdout",
     "output_type": "stream",
     "text": [
      "done.\n"
     ]
    },
    {
     "name": "stderr",
     "output_type": "stream",
     "text": [
      "DEBUG:urllib3.connectionpool:Starting new HTTP connection (1): mygene.info:80\n"
     ]
    },
    {
     "name": "stdout",
     "output_type": "stream",
     "text": [
      "querying 25001-26000..."
     ]
    },
    {
     "name": "stderr",
     "output_type": "stream",
     "text": [
      "DEBUG:urllib3.connectionpool:http://mygene.info:80 \"POST /v3/query/ HTTP/1.1\" 200 None\n"
     ]
    },
    {
     "name": "stdout",
     "output_type": "stream",
     "text": [
      "done.\n"
     ]
    },
    {
     "name": "stderr",
     "output_type": "stream",
     "text": [
      "DEBUG:urllib3.connectionpool:Starting new HTTP connection (1): mygene.info:80\n"
     ]
    },
    {
     "name": "stdout",
     "output_type": "stream",
     "text": [
      "querying 26001-27000..."
     ]
    },
    {
     "name": "stderr",
     "output_type": "stream",
     "text": [
      "DEBUG:urllib3.connectionpool:http://mygene.info:80 \"POST /v3/query/ HTTP/1.1\" 200 None\n"
     ]
    },
    {
     "name": "stdout",
     "output_type": "stream",
     "text": [
      "done.\n"
     ]
    },
    {
     "name": "stderr",
     "output_type": "stream",
     "text": [
      "DEBUG:urllib3.connectionpool:Starting new HTTP connection (1): mygene.info:80\n",
      "DEBUG:urllib3.connectionpool:http://mygene.info:80 \"POST /v3/query/ HTTP/1.1\" 200 None\n"
     ]
    },
    {
     "name": "stdout",
     "output_type": "stream",
     "text": [
      "querying 27001-27072...done.\n"
     ]
    },
    {
     "name": "stderr",
     "output_type": "stream",
     "text": [
      "DEBUG:root:Now creating datasets in pubweb/lung-upper-airway-h1299/features, existing ones are <KeysViewHDF5 ['Selected', 'gene', 'vst_mean', 'vst_variable', 'vst_variance', 'vst_variance_expected', 'vst_variance_standardized']>\n",
      "WARNING:root:AnnotateGeneId : No Mapping For : LOC100133331,MIR6723,LOC100130417,FAM132A,CPSF3L,LOC148413,LOC102724312,C1orf233,SLC35E2,LOC115110,FAM213B,LINC00982,LOC284661,MIR4417,LOC102724450,LOC100505887,LOC102724539,LOC102724552,LOC102724571,LOC100506022,APITD1-CORT,APITD1,LOC105376736,LOC101929181,LOC102724659,PRAMEF33P,MIR5096,C1orf64,RSG1,LOC100132147,FAM231B,FAM231C,FAM231A,LOC101927876,LOC101927895,PQLC2,MINOS1,MINOS1-NBL1,UBXN10-AS1,LOC100506801,LOC101928043,C1orf234,MIR4419A,TCEB3,TCEB3-AS1,LOC284632,LOC100506985,TMEM57,SEPN1,LOC101928303,AIM1L,LOC101928324,FAM46B,ATPIF1,LOC101928460,LOC101929406,LINC01225,YARS,LOC101929464,LOC653160,ZMYM6NB,ADPRHL2,LOC101929516,LOC101929901,LOC105378683,LOC100129924,LOC101929592,C1orf228,CCDC163P,LOC101929721,ZCCHC11,FAM159A,MIR1273F,MIR5095,MIR1273G,C1orf123,LOC105378732,C1orf168,LOC101927139,WDR78,LOC101927244,FAM73A,LOC101927412,LOC101927587,WDR63,CYR61,LOC105378828,SEP15,LOC101927844,CCBL2,FLJ27354,LOC105378853,KIAA1107,FAM69A,LOC100129046,LINC01057,LOC729970,LOC101928098,TMEM56,TMEM56-RWDD3,LOC100996630,FLJ31662,LOC100996635,LOC102723661,LOC101928241,LOC729987,LOC101928270,LOC101928476,KIAA1324,SARS,KCNC4-AS1,LOC440600,LOC440602,PGCP1,ATP5F1,FAM212B,FAM212B-AS1,LOC643355,FAM19A3,LOC100996251,LOC101928995,LOC101929023,C1orf137,FAM46C,LOC101929147,HIST2H2BA,LOC100132057,NOTCH2NL,LOC101928979,HFE2,LOC100505824,LOC645166,LOC388692,FAM231D,LOC103091866,LOC101929798,HIST2H2BF,HIST2H3D,HIST2H4A,HIST2H4B,HIST2H3A,HIST2H3C,HIST2H2AA3,HIST2H2AA4,HIST2H2BC,HIST2H2BE,HIST2H2AC,HIST2H2AB,FAM63A,PRUNE,LOC100507670,GBAT2,LOC100132111,LOR,LOC100505666,KIAA0907,C1orf61,KIRREL,LOC646268,POP3,C1orf204,C1orf111,LOC101928404,LOC100505795,LOC400794,LOC100147773,DUSP27,LOC101928650,METTL13,LOC101928673,LOC730159,LOC102724601,LOC101928696,LOC101928751,RFWD2,LOC102724661,LOC101928778,LOC730102,FLJ23867,LOC101928973,GM140,LOC284648,FAM129A,GS1-279B7,C1orf27,OCLM,LOC102724919,LOC440704,LINC01032,TROVE2,LOC101929224,C1orf106,LOC148709,LOC100506747,LOC101929441,LOC284578,C1orf186,C1orf132,LOC105372897,LOC101930114,DIEXF,LOC105748977,LOC102723727,LOC101929541,TMEM206,LOC101929565,FLVCR1-AS1,LOC102723833,LOC101929631,LOC102723886,EPRS,AURKAPS1,MARC2,MARC1,C1orf140,LOC101929771,H3F3A,H3F3AP4,C1orf95,ADCK3,LOC100130093,IBA57-AS1,C1orf145,HIST3H3,HIST3H2A,HIST3H2BB,MIR7641-2,SPHAR,LOC101927532,LOC149373,LOC101927683,KIAA1804,LOC101927765,MIR1273E,LOC339529,ADSS,C1orf101,LOC255654,OR2W5,LOC101928226,PRR26,LOC105376351,LOC105376365,LINC00704,LOC105376382,FAM208B,FBXO18,LOC399715,LOC101928150,ATP5C1,LOC105755953,LOC101928298,LOC101928322,LOC105376430,C10orf111,FAM188A,C10orf113,CASC10,MIR1254-2,LINC00264,LINC00202-2,LINC00202-1,LOC105376468,KIAA1462,SVILP1,LOC105376480,LOC101929352,LOC100129055,SEPT7P9,LOC101929445,LOC102724264,C10orf142,C10orf10,C10orf25,MARCH8,FAM21C,BMS1P5,FAM35BP,CH17-360D5,BMS1P6,FAM35DP,GLUD1P7,C10orf128,FAM21A,LINC01468,C10orf107,LOC101928887,MIR1254-1,KIAA1279,C10orf35,H2AFY2,LOC105378349,LOC102723377,C10orf54,DUPD1,C10orf11,LOC105378385,FAM213A,LOC102723703,LOC105378397,HOST2,LOC101929646,FAM35A,LINC00864,LOC101926942,XLOC-008559,MARCH5,C10orf131,C10orf12,C10orf2,LOC101927419,MGEA5,C10orf76,USMG5,OBFC1,LOC101927472,CFAP58-AS1,LOC101927523,LOC101927549,LOC105378470,LOC102724589,FAM45A,FAM45BP,DMBT1P1,LOC399815,METTL10,FAM175B,FLJ37035,FAM196A,LINC00959,C10orf91,ATHL1,PDDC1,HOTS,CARS,LOC100506082,PRKCDBP,ST5,LOC440028,MRVI1-AS1,MRVI1,LOC105376554,LOC101928132,LOC102724957,LOC105376575,LOC102723330,LOC494141,SPTY2D1-AS1,LOC105376599,LOC105376671,DCDC5,DKFZp686K1684,CSTF3-AS1,FBXO3-AS1,C11orf74,LOC105376633,LOC103312105,LOC101928591,LOC100507205,LOC221122,LOC101928812,LOC399886,DKFZp779M0652,GYLTL1B,LOC101928943,LOC441601,OR5R1,LOC101927120,C11orf31,LOC101927204,GIF,DKFZP434K028,METTL12,HRASLS5,RARRES3,HRASLS2,PLA2G16,C11orf84,LOC105369340,TEX40,LOC100996455,C11orf85,SLC22A20,SSSCA1-AS1,SSSCA1,ADRBK1,MTL5,ORAOV1,LOC101928443,ANO1-AS2,FLJ42102,FAM86C1,LOC100129216,MIR4459,LOC101928580,LOC100506127,LOC101928865,LOC101928944,RAB30-AS1,C11orf73,LOC100506368,LOC105369423,LOC105369431,CCDC67,MRE11A,LOC105369443,LOC100128386,TMEM133,LOC101054525,C11orf70,MIR7641-1,LOC102723895,LOC643733,LOC105369473,LOC643923,KDELC2,LOC105369486,C11orf88,C11orf57,LOC283140,LOC101928823,LOC387810,LOC101929011,TMPRSS4-AS1,ATP5L,CCDC84,MIR3656,H2AFX,TMEM136,C11orf63,OR8G2,ST3GAL4-AS1,LOC101929497,LOC101929517,C11orf44,LOC100507431,LOC103611081,LOC646522,MIR4697HG,LOC100128239,LOC283177,LOC100288778,LOC101929384,LOC100049716,LOC283440,LOC100507424,LOC101929549,LOC101929584,LOC105369635,LOC101927905,LOC101930452,LOC100506159,LOC400002,LOC101928100,LOC101928162,LOC100506314,HIST4H4,H2AFJ,LOC100506393,LOC101928471,LRMP,CASC1,LYRM5,ASUN,FAM60A,H3F3C,LOC105369723,KIAA1551,LOC101927038,LOC101927058,LOC105369738,LOC105369739,H1FNT,LINC00935,LOC100506125,LOC283332,LOC101927292,LOC105369971,GRASP,C12orf80,C12orf10,ATP5G2,LOC400043,ATP5B,MARS,MARCH9,METTL21B,LOC100506844,LOC105369785,LOC101927653,FAM19A2,TMEM5,TMEM5-AS1,FLJ41278,LOC100129940,LLPH-AS1,LOC100507175,LOC101927901,LOC100507195,LINC01481,LOC101928137,LOC100507377,LOC105369860,LOC102724663,LOC101928449,LOC728084,LINC00936,LOC105369891,LOC105369893,CLLU1OS,C12orf74,LOC102724933,NUDT4P1,CEP83-AS1,LOC105369920,LOC643711,LOC643770,CCDC53,LOC101929084,KIAA1033,FAM109A,C12orf49,LOC105370014,LOC105370016,CCDC64,XLOC-009911,WDR66,LOC100507091,LOC101927415,ZNF664-FAM101A,FAM101A,LOC101927464,LOC100128554,LOC440117,LOC101927592,LOC101927616,LOC101927637,FLJ37505,CRAT8,LOC100996679,LOC101927694,MIR4419B,LOC283352,LOC101927735,LOC100190940,LACAT8,LOC107161159,LOC338797,EP400NL,LOC101928597,C1QTNF9B-AS1,PDX1-AS1,ATP5EP2,MINOS1P1,SPG20,SPG20-AS1,LHFP,LOC105370177,LINC00284,SPERT,KIAA0226L,LINC00441,LINC00371,LINC00282,LOC103191607,LECT1,LOC101926897,LOC101926951,RNF219-AS1,RNF219,LOC105370306,DNAJC3-AS1,DOCK9-AS2,LOC105370333,KDELC1,LINC00346,LOC105370369,LINC00403,GAS6-AS2,LOC642426,LINC01296,TMEM55B,LRRC16B,LOC101927062,LOC102724890,LOC105370424,KIAA0391,CTAGE5,LOC644919,FAM179B,ATP5S,C14orf166,C14orf105,C14orf37,LOC101927780,LOC100128233,LINC00238,C14orf169,ELMSAN1,LOC100506498,C14orf1,LOC100506603,LOC283575,LOC102724190,LOC100506700,LOC105370605,LOC101928767,LOC283585,LOC101928791,C14orf159,LOC101929002,C14orf142,LINC00521,LOC101929080,LINC00341,LOC101929241,LOC100129345,WARS,SNHG24,LOC100507277,APOPT1,C14orf2,LOC101929634,ADSSL1,C14orf79,LOC102723354,C14orf80,KIAA0125,LOC727924,LOC100128714,GOLGA6L7P,DKFZP434L187,LOC102725022,LOC100996255,LOC105370757,LOC101928134,DPH6-AS1,C15orf41,LOC101928227,C15orf53,C15orf52,C15orf57,CASC5,CASC4,EIF3J-AS1,C15orf43,SQRDL,FLJ10038,LOC100129973,DYX1C1-CCPG1,DYX1C1,LOC101928694,FAM63B,LOC102723344,FAM96A,KIAA0101,VWA9,LOC102723481,LOC101929151,GRAMD2,LOC105370888,LOC102723640,C15orf59,C15orf59-AS1,LOC729739,FBXO22-AS1,KIAA1024,LINC01314,MESDC2,MESDC1,FAM103A1,HDGFRP3,EFTUD1P1,LOC642423,LOC101929679,C15orf38-AP3S2,LOC101926911,LOC101927153,LOC101927286,VIMP,TARSL2,TMEM8A,C16orf13,FAM195A,LOC105371184,FAM173A,NARFL,HN1L,C16orf59,TCEB2,CCDC64B,LOC102724927,SEPT12,LOC101927009,LOC101927311,LOC101927348,MKL2,LOC105447648,C16orf45,KIAA0430,FOPNL,C16orf62,LOC81691,C16orf52,LOC653786,LOC283887,FLJ21408,KIAA0556,CDIPT-AS1,FAM57B,LOC613037,SEPT1,C16orf58,FLJ26245,LOC100507534,LOC101927132,LOC100507577,PAPD5,LOC101927334,LOC102467079,LOC100996338,LOC100996345,FAM192A,LOC101927580,LOC729159,LOC101927650,CCDC79,FAM96B,FAM65A,RLTPR,LOC100131303,AARS,FUK,MTSS1L,C16orf47,KARS,LOC101928203,PRCAT47,TLDC1,FAM92B,LOC400548,LOC146513,LOC101928614,LOC102724344,LOC440390,LOC101928880,LOC400558,LOC100506371,FAM101B,FAM57A,TUSC5,GSG2,LOC102724009,LOC101928000,LOC105371506,FAM64A,C17orf74,LOC284023,LINC00675,LOC101928418,LOC101928567,LRRC75A-AS1,FAM106CP,FLJ35934,C17orf51,SGK494,NARR,TBC1D29,LOC107133515,LOC101927239,LOC105371743,LOC102723471,LOC101060389,LOC440434,C17orf96,LOC105371766,LOC100131347,PTRF,FAM134C,LINC00854,C17orf105,LOC107546764,C17orf53,LOC644172,MGC57346-CRHR1,MGC57346,CRHR1-IT1,ATP5G1,LOC101927207,LOC284080,HILS1,LOC101927230,LINC00483,LOC101927274,LOC440446,C17orf112,BZRAP1-AS1,SEPT4-AS1,SEPT4,C17orf47,LOC101927755,LOC388406,C17orf82,MARCH10,LOC101927877,LOC146880,CRAT40,LOC440461,LOC102723505,LOC101928205,LOC146795,LOC400620,ICT1,ATP5H,HN1,H3F3B,LOC101928514,LOC105371907,SEPT9,LOC100132174,FLJ45079,TNRC6C-AS1,LOC100996291,LOC101928710,HP09025,LOC101928766,LOC101928738,LOC100294362,BAIAP2-AS1,AATK-AS1,ENTHD2,C17orf89,FAM195B,MAFG-AS1,STRA13,LOC101929511,HEXDC,C17orf62,LOC105376854,LOC727896,C18orf42,LOC100996324,C18orf8,LOC729950,LOC101927809,LOC105667213,ATP5A1,TCEB3CL,TCEB3CL2,TCEB3C,TCEB3B,LOC100287225,LOC102724651,LOC101928167,LOC101927229,NARS,KIAA1468,LOC284294,LOC101927481,LOC101060542,LOC102724913,LOC400655,LOC100505817,LOC101927606,FAM69C,LOC100505853,C18orf65,LOC101927651,LOC400661,LOC100131655,PQLC1,HMHA1,ATP5D,C19orf24,MUM1,C19orf35,LOC101928602,AES,CCDC94,HDGFRP2,C19orf70,LOC100128573,C19orf45,MARCH2,LOC101928238,C19orf66,FDX1L,ILF3-AS1,C19orf52,LOC101928464,ZNF788,LOC105372280,C19orf43,ASNA1,LOC284454,C19orf57,LOC113230,LOC105372288,LOC101928845,LOC102724279,FAM129C,KIAA1683,C19orf60,LOC102724360,MEF2BNB-MEF2B,LOC641367,LOC374890,LOC101929164,LOC101929144,ZNF724P,LOC101927411,CEBPA-AS1,KIAA0355,LOC400685,LOC102723617,HKR1,LOC100631378,SELV,CNTD2,ADCK4,ATP5SL,LOC100289650,LOC105372419,CD3EAP,BHMG1,LOC400706,LOC645553,PNMAL1,PNMAL2,GLTSCR1,GLTSCR2,GLTSCR2-AS1,SEPW1,C19orf68,CCDC155,FLJ26850,ACPT,MGC45922,LOC100129083,LOC101928886,FAM150B,LOC101060385,LOC101060391,TSSC1,LINC01105,RNF144A-AS1,LOC101929567,C2orf48,LOC101929715,LOC101929733,PQLC3,FAM84A,LOC653602,LOC101926966,FAM49A,LOC645949,LOC102723362,C2orf44,EPT1,C2orf70,BRE-AS1,BRE,FAM179A,C2orf71,LOC285043,LOC100271832,LOC100288911,LOC101929596,LOC728730,LOC388942,LOC101929723,LOC102723824,LOC102723854,LOC101805491,LOC100506142,C2orf61,LOC101927043,HCG2040054,LOC105374596,LOC101927165,LOC101927285,AHSA2,LOC339807,LOC101927438,LOC400958,LOC729348,LOC100507073,LOC101927577,LOC101060019,LOC102800447,LOC644838,LOC101927701,LOC100133985,LOC101927907,LOC101927926,LOC101927987,LOC100507201,LOC1720,LOC90784,LOC285074,LINC00152,LOC101928403,LOC654342,LINC01125,LOC101927070,KIAA1211L,LOC101927142,LOC100506286,LOC105373518,LOC105373519,LOC101927331,LINC01158,LOC102724691,UTAT33,LOC105373984,C2orf40,SEPT10,LINC00116,LOC400997,LOC101060091,LOC101929926,LOC151121,LOC389033,LOC101927924,TISP43,LOC646743,WTH3DI,LOC150776,C2orf27B,LOC101928185,LOC101928161,LOC100507600,DARS,LOC105373635,LOC101929231,LOC101929260,LOC101929282,LOC101929378,LOC100129029,MARCH7,LOC100505984,LOC100996579,LOC101929570,LOC101929680,LOC105616981,LOC101929753,DLX2-AS1,ZAK,MLK7-AS1,LOC100128905,ATP5G3,KIAA1715,LOC105373764,LOC101927027,DFNB59,LOC101927156,SSFA2,LOC101927196,LOC105747689,SDPR,LOC101927406,LOC101927431,LOC101927482,LOC101927596,LOC101927619,LOC101927641,C2orf47,LOC100507140,LOC101927795,ALS2CR12,ALS2CR11,LOC729224,LOC200726,LOC101927865,LOC102724714,LOC101928020,LOC102725079,LOC100130451,LOC101928103,PKI55,MARCH4,LOC101928327,LOC105373878,FAM134A,LOC100996693,LOC654841,LOC151475,LOC151484,C2orf57,ALPPL2,C2orf82,FAM132B,LOC151174,LOC643387,FLJ43879,LOC101928111,MYEOV2,PP14571,CAPN10-AS1,C2orf54,LOC200772,SEPT2,LOC285095,LOC102723927,LOC728323,LOC727993,LOC101929125,LOC101929207,C20orf196,LOC101929288,LOC101929312,PAK7,LOC101929371,LOC101929395,LOC101929486,LOC100505515,CSRP2BP,LINC00493,LOC101929526,LOC100270804,C20orf78,LOC100130264,LOC101929625,LOC101929608,LINC01384,FLJ33581,LOC105379511,LOC101926955,LINC01598,LOC149950,MMP24-AS1,TGIF2-C20orf24,C20orf24,LOC339568,LOC105372626,OSER1-AS1,WISP2,TMEM189-UBE2V1,TMEM189,LINC01272,FAM65C,LOC100506175,RTFDC1,MIR4532,APCDD1L-AS1,LOC79160,ATP5E,LOC100506384,LOC100506470,C20orf166-AS1,LOC63930,C20orf195,LOC100505771,LINC00176,MIR3687-1,MIR3687-2,LOC102724188,LOC101927843,LOC101927869,LOC105372751,LOC339622,ATP5J,LOC284825,LOC101927973,C21orf59,LOC102724502,IL10RB-AS1,ATP5O,C21orf140,DOPEY2,LOC105372795,DSCR3,LOC101928435,BRWD1-IT2,WRB-SH3BGR,WRB,LOC101928233,LOC101928311,LOC102724652,TCONS-00029157,LOC102724428,C21orf33,LOC105372833,C21orf2,LRRC3-AS1,LINC00162,LOC642852,LOC100129027,LOC101929350,CECR6,LOC100996342,CECR5,CECR5-AS1,CECR1,FLJ41941,DGCR9,DGCR10,DGCR14,UFD1L,SEPT5,C22orf29,LOC101928891,LL22NC03-63E9,LOC101929374,LOC388882,GSTTP1,LOC100128531,ADRBK2,LOC100507657,MIR3653,GATSL3,SELM,PIK3IP1-AS1,LOC105373006,LARGE,LL22NC01-81G9,LOC101927051,H1F0,LOC400927-CSNK1E,LOC400927,APOBEC3A-B,LOC100130899,MKL1,LOC101927257,SEPT3,FAM109B,NDUFA6-AS1,ATP5L2,LOC100506679,LOC105373051,LOC101927447,KIAA1644,LOC101927526,LDOC1L,NUP50-AS1,GTSE1-AS1,LL22NC03-75H12,FAM19A5,SELO,CHKB-AS1,LOC102723448,ITPR1-AS1,LOC101927416,LOC401052,CIDECP,LOC105376955,LOC152274,LOC101927854,MIR4792,LOC105376997,LOC100996624,LOC729083,FAM198A,LOC102724231,LOC102724297,LOC100132146,PRSS46,PRSS45,PRSS42,CELSR3-AS1,QARS,CCDC36,BSN-AS2,FAM212A,MIR566,NAT6,VPRBP,IQCF4,TMEM110-MUSTN1,TMEM110,SELK,FAM208A,LOC101929159,LOC105377105,C3orf67,C3orf67-AS1,FAM19A1,FAM19A4,LOC728290,LOC101927494,DHFRL1,MINA,TMEM30C,LOC152225,LOC101929607,KIAA1524,FLJ22763,PVRL3-AS1,LINC01279,LOC101929694,C3orf17,LOC101929717,LOC101929754,C3orf30,MAATS1,LOC101926983,LOC102723582,DIRC2,LOC100129550,LOC101927056,CCDC37-AS1,TXNRD3NB,LOC101927123,KIAA1257,H1FX,H1FX-AS1,H1FOO,NUDT16P1,ACPP,LOC100507210,NCK1-AS1,LOC646730,C3orf58,LOC101927866,LOC100507461,SELT,C3orf79,LOC100507537,LOC105374177,PQLC2L,LOC101243545,LINC01330,LOC100507661,LOC105374205,LOC101928583,KCCAT211,LOC100505609,FLJ46066,LOC105374244,LOC105374250,EIF2B5-AS1,LOC101928992,LOC344887,LOC253573,LOC102724699,LOC105374266,HRASLS,LOC647323,LOC285389,LOC100505920,LOC101929337,LOC100507391,LINC00969,LOC101929697,TCTEX1D2,NCBP2-AS2,MFI2-AS1,ATP5I,MFSD7,CTBP1-AS2,CRIPAK,WHSC1,LOC100133461,LOC285484,LOC105374366,FLJ36777,LOC650293,DEFB131,LOC101929019,CPEB2-AS1,LOC101929095,LOC101929123,LOC105374546,LOC101929199,LOC102723778,LOC102723828,LOC101927363,LOC100508631,LOC101060498,LVCAT1,USP46-AS1,LOC339978,LOC644145,KIAA1211,LOC101928851,LOC105377671,LOC105377247,LOC105377245,LOC401134,LOC728040,LOC100507388,LOC441025,C4orf26,LOC101928809,SEPT11,C4orf22,LOC101928942,FAM175A,LOC101929064,LOC100506746,LOC105369192,LOC101929134,LOC101929194,BMPR1B-AS1,H2AFZ,LOC256880,LOC105377348,LOC101929448,LOC101929468,LOC101929529,LOC101929595,RPL34-AS1,CCDC109B,C4orf32,LOC101929741,LOC645513,LOC100996694,TMEM155,LOC101927087,LOC100507487,LOC101927282,LOC101927305,LOC729307,LOC100507639,LOC101927849,LOC100996286,DEAR,DKFZP434I0714,KIAA0922,GUCY1A3,GUCY1B3,LOC340017,FAM198B,MARCH1,LINC01207,C4orf27,LOC100506085,LOC100506107,LOC100506122,LOC101928314,LOC101928509,LOC90768,FAM92A1P2,LOC728175,LOC102723766,LVCAT8,LOC100506272,LOC100288152,CTD-3080P12,LOC101929034,CTD-2194D22,LOC101929153,LOC105374631,CTD-2297D10,FLJ33360,LOC100505625,PAPD7,LOC101929261,LOC729506,LOC101929284,CTD-2201E9,LOC285692,FAM173B,MARCH6,LOC101929412,LOC389273,FAM105A,LOC101929454,CTD-2350J17,MARCH11,LOC101929505,FAM134B,LOC285696,LOC401177,LOC101929544,LOC102723526,LOC646241,LOC340107,LOC105374693,LINC01021,LOC105374698,LOC101929660,LOC101929681,LOC340113,TARS,NIPBL-AS1,C5orf42,LOC105374729,LOC101929745,FYB,LOC101926940,LOC100506548,SEPP1,C5orf28,BRCAT107,BRCAT54,LOC100287592,SKIV2L2,LOC102467147,LOC101928539,LOC101928569,LOC101928600,CTC-436P18,LOC100506526,FAM159B,LOC101928769,LOC101928794,LOC102467655,LOC101928885,GTF2H2C-2,SMA4,SMA5,LOC647859,LOC102724392,LOC102477328,LINC01336,COL4A3BP,PAPD4,CTD-2201I18,LOC105379054,MIR3607,LOC100505878,LOC55338,LOC102546226,CTD-2151A2,C5orf30,LOC102467212,LOC102467213,LOC100289673,EPB41L4A-AS2,LOC102467214,LOC101927059,LOC102467223,LOC102467224,HNCAT21,HRAT56,LOC102467225,LOC101927379,LOC101927460,LOC102546228,GRAMD3,LOC102723557,MARCH3,KIAA1024L,LOC553103,C5orf56,SEPT8,LOC101927934,MIR4461,H2AFY,LOC340074,FBXL21,LOC389332,TMEM173,LOC101929696,LINC01024,HARS,LOC100505658,KIAA0141,LOC101926941,LOC101926975,LARS,LOC255187,LOC644762,LOC102546298,CTB-113P19,CTB-12O2,PPP1R2P3,LOC101927697,LOC101927740,LOC105377682,LOC285627,LOC101927766,LOC285629,LOC101927835,CTB-7E3,CTB-178M22,RARS,LOC101927969,LOC728095,FAM196B,CTD-2270F17,LOC105377716,HMP19,FLJ16171,LOC100507387,FAM153C,GMCL1P1,LOC101928445,C5orf45,LOC102577426,CTC-338M12,GMDS-AS1,LOC100507194,LOC100507506,LOC101928433,LOC105374952,LOC100506885,C6orf229,FAM65B,LRRC16A,HIST1H2AA,HIST1H2BA,HIST1H2APS1,HIST1H1A,HIST1H3A,HIST1H4A,HIST1H4B,HIST1H3B,HIST1H2AB,HIST1H2BB,HIST1H3C,HIST1H1C,HIST1H4C,HIST1H1T,HIST1H2BC,HIST1H2AC,HIST1H1E,HIST1H2BD,HIST1H2BE,HIST1H4D,HIST1H3D,HIST1H2AD,HIST1H2BF,HIST1H4E,HIST1H2BG,HIST1H2AE,HIST1H3E,HIST1H1D,HIST1H4F,HIST1H4G,HIST1H3F,HIST1H2BH,HIST1H3G,HIST1H2BI,HIST1H4H,HIST1H2BJ,HIST1H2AG,HIST1H2BK,HIST1H4I,HIST1H2AH,HIST1H2BL,HIST1H2AI,HIST1H3H,HIST1H2AJ,HIST1H2BM,HIST1H4J,HIST1H4K,HIST1H2AK,HIST1H2BN,HIST1H2AL,HIST1H1B,HIST1H3I,HIST1H4L,HIST1H3J,HIST1H2AM,HIST1H2BO,HCG16,LOC554223,HCG8,ZNRD1,LOC105375014,DPCR1,C6orf25,VARS,C6orf48,C4B-2,LOC101929163,C6orf10,C6orf1,C6orf106,LOC101929243,C6orf222,LOC100505530,LOC100131047,LOC100505635,GLTSCR1L,LOC101929726,LOC101926962,MUT,ICK,LOC101930010,LOC101927211,LOC101928280,MB21D1,LOC100506804,FAM46A,DOPEY1,LOC101928820,MANEA-AS1,AIM1,LOC100422737,C6orf203,LACE1,LOC100996634,WISP3,LOC101927640,LOC101927686,LINC01268,FLJ34503,LOC101927768,LOC105377962,FAM26F,FAM26E,FAM26D,ZUFSP,LOC100287632,HRAT13,LOC643623,LOC101928140,CTGF,TAAR3,LOC101928231,LOC101928461,LOC100507406,LOC100130476,GVQW2,LOC100132735,LOC100507557,LOC105378047,LOC102724053,LOC100129518,LOC729603,PARK2,T,FGFR1OP,TCP10,LOC401286,LOC441178,MLLT4-AS1,MLLT4,HGC6,LOC101929504,TCTE3,WI2-2373I1,LOC101927000,LOC101926963,LOC101927021,LOC101927181,LOC101927391,LOC100505921,PER4,MEOX2-AS1,ISPD,ISPD-AS1,KCCAT333,LOC101927630,TWISTNB,LOC541472,KLHL7-AS1,NUPL2,DFNA5,C7orf71,LOC102724484,LOC401320,GARS,INMT-FAM188B,FAM188B,CCDC129,SEPT7-AS1,SEPT7,YAE1D1,LOC100506895,H2AFV,SEPT7P2,C7orf72,HPVC1,LOC100996654,SEPT14,GBAS,GS1-124K5,GS1-124K5,LOC100507468,WBSCR17,SPDYE8P,WBSCR22,WBSCR27,WBSCR28,WBSCR16,GATSL2,LOC101927356,KIAA1324L,LOC102723885,C7orf62,LOC105375396,LOC101927497,LOC105375401,C7orf76,LOC100506136,SHFM1,MGC72080,ATP5J2-PTCD1,ATP5J2,GS1-259H13,C7orf43,GATS,LOC102724094,LOC101927746,UPK3BL,C7orf60,LINC00998,LINC01510,LVCAT5,LOC102724555,HYALP1,LOC101928333,MGC27345,LOC100130705,LOC100506860,C7orf49,C7orf73,LOC100130880,C7orf55,C7orf55-LUC7L2,JHDM1D-AS1,KIAA1147,C7orf34,LOC105375545,LOC101928605,LOC101928700,SSPO,PAXIP1-AS1,C7orf13,LOC100506585,WDR60,ERICH1-AS1,GS1-24F4,DEFB109P1B,SGK223,LINC00599,DEFB130,LOC100133267,DEFB109P1,KIAA1456,LOC286114,LOC101929450,FAM183CP,PROSC,WHSC1L1,C8orf4,C8orf22,FAM150A,IMPAD1,UG0898H09,LOC102724623,C8orf46,TCEB1,C8orf59,TMEM55A,FAM92A1,KIAA1429,LOC105375650,LOC100500773,MIR1273A,NACAP1,NOV,LOC105375734,WDYHV1,KIAA0196,FAM84B,FAM49B,WISP1,LOC100288181,LOC100133669,PYCRL,TSTA3,BREA2,FAM83H-AS1,WASH1,C9orf66,CDC37L1-AS1,TMEM261,FLJ41200,CDKN2A-AS1,TOPORS-AS1,KIAA1161,DNAJB5-AS1,LINC00950,LINC00961,EBLN3,KGFLP2,ANKRD20A2,ANKRD20A3,XLOC-007697,LOC105376064,KGFLP1,LOC403323,LOC102725126,ANKRD20A4,C9orf135-AS1,TMEM2,C9orf41-AS1,ZCCHC6,LOC494127,C9orf170,LOC286238,IARS,MIRLET7DHG,C9orf3,AAED1,LOC441454,LOC100499484-C9ORF174,LOC100499484,MURC,TMEM246,IKBKAP,FAM206A,PALM2,PALM2-AKAP2,AKAP2,KIAA0368,C9orf84,DFNB31,C9orf91,LOC100505478,DEC1,LOC100288842,PSMD5-AS1,GGTA1P,FAM129B,WDR34,C9orf114,CCBL1,FAM73B,PPP2R4,LOC401554,C9orf9,TMEM8C,LINC00094,C9orf69,SDCCAG3,FAM69B,C9orf172,C9orf142,MAN1B1-AS1,C9orf173-AS1,C9orf173,EHMT1-IT1,ARSE,GS1-600G8,FIGF,GS1-594A7,TMEM27,CXorf23,ZNF645,PPP4R3CP,CXorf21,RP11-87M18,FTH1P18,HYPM,LOC100132831,LOC105373185,PPP1R2P9,LOC101927501,CXorf36,LOC392452,LOC401585,SSX6,SSX9,CXorf67,CENPVP1,CENPVP2,XAGE1E,SSX8,LINC01420,NLRP2P,ACRC,RGAG4,LOC101928259,LOC100132304,LINC00684,NAP1L6,KIAA2022,ZCCHC5,FAM46D,TMEM35,LOC105373300,H2BFXP,LOC100101478,H2BFWT,H2BFM,MUM1L1,CXorf57,PIH1D3,MIR6087,RGAG1,LINC00890,ZCCHC16,SEPT6,LOC340581,FAM127C,FAM127A,FAM127B,LINC00633,LOC100287728,DDX26B-AS1,CT45A4,LINC00889,TMEM257,CXorf40A,CXorf40B,FAM58A,CH17-340M24,H2AFB2,H2AFB1,H2AFB3,FAM197Y2P,FAM197Y5P,SCoV1-ORF1a,SCoV1-ORF1ab,SCoV1-S,SCoV1-ORF3a,SCoV1-ORF3b,SCoV1-E,SCoV1-M,SCoV1-ORF6,SCoV1-ORF7a,SCoV1-ORF7b,SCoV1-ORF8a,SCoV1-ORF8b,SCoV1-N,SCoV1-ORF10,SCoV1-UTR3,MT-ND1,MT-ND2,MT-CO1,MT-TS1,MT-CO2,MT-ATP8,MT-ATP6,MT-CO3,MT-ND3,MT-ND4L,MT-ND4,MT-ND5,MT-ND6,MT-CYB,SCoV2-orf1ab,SCoV2-ORF10,SCoV2-ORF3a,SCoV2-E,SCoV2-M,SCoV2-ORF7a,SCoV2-ORF8,SCoV2-N,SCoV2-UTR3\n"
     ]
    },
    {
     "name": "stdout",
     "output_type": "stream",
     "text": [
      "Finished.\n",
      "1223 input query terms found dup hits:\n",
      "\t[('MMP23A', 2), ('LINC01346', 2), ('LINC00337', 2), ('SNORA59B', 2), ('PRAMEF22', 2), ('PRAMEF34P', \n",
      "2036 input query terms found no hit:\n",
      "\t['LOC100133331', 'MIR6723', 'LOC100130417', 'FAM132A', 'CPSF3L', 'LOC148413', 'LOC102724312', 'C1orf\n",
      "CPU times: user 4.67 s, sys: 53.5 ms, total: 4.72 s\n",
      "Wall time: 1min 17s\n"
     ]
    },
    {
     "data": {
      "text/plain": [
       "<pubweb.hdf5.LocalHdf5 at 0x7ff519147e20>"
      ]
     },
     "execution_count": 11,
     "metadata": {},
     "output_type": "execute_result"
    }
   ],
   "source": [
    "%time hdf5 | AnnotateGeneId(species=species)\n",
    "# 1min28s"
   ]
  },
  {
   "cell_type": "code",
   "execution_count": 12,
   "metadata": {},
   "outputs": [
    {
     "name": "stdout",
     "output_type": "stream",
     "text": [
      "<class 'pubweb.hdf5.LocalHdf5'>\n"
     ]
    }
   ],
   "source": [
    "# save hdf5_geneid\n",
    "print(type(hdf5))"
   ]
  },
  {
   "cell_type": "code",
   "execution_count": 13,
   "metadata": {},
   "outputs": [
    {
     "data": {
      "text/plain": [
       "['pubweb/lung-upper-airway-h1299/matrix']"
      ]
     },
     "execution_count": 13,
     "metadata": {},
     "output_type": "execute_result"
    }
   ],
   "source": [
    "hdf5.getDatasetsWithPath('pubweb/lung-upper-airway-h1299')"
   ]
  },
  {
   "cell_type": "code",
   "execution_count": 14,
   "metadata": {},
   "outputs": [
    {
     "data": {
      "text/plain": [
       "['pubweb/lung-upper-airway-h1299']"
      ]
     },
     "execution_count": 14,
     "metadata": {},
     "output_type": "execute_result"
    }
   ],
   "source": [
    "hdf5.getDatasets()"
   ]
  },
  {
   "cell_type": "code",
   "execution_count": 15,
   "metadata": {},
   "outputs": [
    {
     "name": "stdout",
     "output_type": "stream",
     "text": [
      "Export Matrix\n",
      "Writing cols 0 to 100\n",
      "Writing cols 100 to 200\n",
      "Writing cols 200 to 300\n",
      "Writing cols 300 to 400\n",
      "Writing cols 400 to 500\n",
      "Writing cols 500 to 600\n",
      "Writing cols 600 to 700\n",
      "Writing cols 700 to 800\n",
      "Writing cols 800 to 900\n",
      "Writing cols 900 to 1000\n",
      "Writing cols 1000 to 1100\n",
      "Writing cols 1100 to 1200\n",
      "Writing cols 1200 to 1300\n",
      "Writing cols 1300 to 1400\n",
      "Writing cols 1400 to 1500\n",
      "Writing cols 1500 to 1600\n",
      "Writing cols 1600 to 1700\n",
      "Writing cols 1700 to 1800\n",
      "Writing cols 1800 to 1900\n",
      "Writing cols 1900 to 2000\n",
      "Writing cols 2000 to 2100\n",
      "Writing cols 2100 to 2200\n",
      "Writing cols 2200 to 2300\n",
      "Writing cols 2300 to 2400\n",
      "Writing cols 2400 to 2500\n",
      "Writing cols 2500 to 2600\n",
      "Writing cols 2600 to 2700\n",
      "Writing cols 2700 to 2800\n",
      "Writing cols 2800 to 2900\n",
      "Writing cols 2900 to 3000\n",
      "Writing cols 3000 to 3100\n",
      "Writing cols 3100 to 3200\n",
      "Writing cols 3200 to 3300\n",
      "Writing cols 3300 to 3400\n",
      "Writing cols 3400 to 3500\n",
      "Writing cols 3500 to 3600\n",
      "Writing cols 3600 to 3700\n",
      "Writing cols 3700 to 3800\n",
      "Writing cols 3800 to 3900\n",
      "Writing cols 3900 to 4000\n",
      "Writing cols 4000 to 4100\n",
      "Writing cols 4100 to 4200\n",
      "Writing cols 4200 to 4300\n",
      "Writing cols 4300 to 4400\n",
      "Writing cols 4400 to 4500\n",
      "Writing cols 4500 to 4600\n",
      "Writing cols 4600 to 4700\n",
      "Writing cols 4700 to 4800\n",
      "Writing cols 4800 to 4900\n",
      "Writing cols 4900 to 5000\n",
      "Writing cols 5000 to 5100\n",
      "Writing cols 5100 to 5200\n",
      "Writing cols 5200 to 5300\n",
      "Writing cols 5300 to 5400\n",
      "Writing cols 5400 to 5500\n",
      "Writing cols 5500 to 5600\n",
      "Writing cols 5600 to 5700\n",
      "Writing cols 5700 to 5800\n",
      "Writing cols 5800 to 5900\n",
      "Writing cols 5900 to 6000\n",
      "Writing cols 6000 to 6100\n",
      "Writing cols 6100 to 6200\n",
      "Writing cols 6200 to 6300\n",
      "Writing cols 6300 to 6400\n",
      "Writing cols 6400 to 6500\n",
      "Writing cols 6500 to 6600\n",
      "Writing cols 6600 to 6700\n",
      "Writing cols 6700 to 6800\n",
      "Writing cols 6800 to 6900\n",
      "Writing cols 6900 to 7000\n",
      "Writing cols 7000 to 7100\n",
      "Writing cols 7100 to 7200\n",
      "Writing cols 7200 to 7300\n",
      "Writing cols 7300 to 7400\n",
      "Writing cols 7400 to 7500\n",
      "Writing cols 7500 to 7600\n",
      "Writing cols 7600 to 7700\n",
      "Writing cols 7700 to 7800\n",
      "Writing cols 7800 to 7900\n",
      "Writing cols 7900 to 8000\n",
      "Writing cols 8000 to 8100\n",
      "Writing cols 8100 to 8200\n",
      "Writing cols 8200 to 8300\n",
      "Writing cols 8300 to 8400\n",
      "Writing cols 8400 to 8500\n",
      "Writing cols 8500 to 8600\n",
      "Writing cols 8600 to 8700\n",
      "Writing cols 8700 to 8800\n",
      "Writing cols 8800 to 8900\n",
      "Writing cols 8900 to 9000\n",
      "Writing cols 9000 to 9100\n",
      "Writing cols 9100 to 9200\n",
      "Writing cols 9200 to 9300\n",
      "Writing cols 9300 to 9400\n",
      "Writing cols 9400 to 9500\n",
      "Writing cols 9500 to 9600\n",
      "Writing cols 9600 to 9700\n",
      "Writing cols 9700 to 9800\n",
      "Writing cols 9800 to 9900\n",
      "Writing cols 9900 to 10000\n",
      "Writing cols 10000 to 10100\n",
      "Writing cols 10100 to 10200\n",
      "Writing cols 10200 to 10300\n",
      "Writing cols 10300 to 10400\n",
      "Writing cols 10400 to 10500\n",
      "Writing cols 10500 to 10600\n",
      "Writing cols 10600 to 10700\n",
      "Writing cols 10700 to 10800\n",
      "Writing cols 10800 to 10900\n",
      "Writing cols 10900 to 11000\n",
      "Writing cols 11000 to 11100\n",
      "Writing cols 11100 to 11200\n",
      "Writing cols 11200 to 11300\n",
      "Writing cols 11300 to 11400\n",
      "Writing cols 11400 to 11500\n",
      "Writing cols 11500 to 11600\n",
      "Writing cols 11600 to 11700\n",
      "Writing cols 11700 to 11800\n",
      "Writing cols 11800 to 11900\n",
      "Writing cols 11900 to 12000\n",
      "Writing cols 12000 to 12100\n",
      "Writing cols 12100 to 12200\n",
      "Writing cols 12200 to 12300\n",
      "Writing cols 12300 to 12400\n",
      "Writing cols 12400 to 12500\n",
      "Writing cols 12500 to 12600\n",
      "Writing cols 12600 to 12700\n",
      "Writing cols 12700 to 12800\n",
      "Writing cols 12800 to 12900\n",
      "Writing cols 12900 to 13000\n",
      "Writing cols 13000 to 13100\n",
      "Writing cols 13100 to 13200\n",
      "Writing cols 13200 to 13300\n",
      "Writing cols 13300 to 13400\n",
      "Writing cols 13400 to 13500\n",
      "Writing cols 13500 to 13600\n",
      "Writing cols 13600 to 13700\n",
      "Writing cols 13700 to 13800\n",
      "Writing cols 13800 to 13900\n",
      "Writing cols 13900 to 14000\n",
      "Writing cols 14000 to 14100\n",
      "Writing cols 14100 to 14200\n",
      "Writing cols 14200 to 14300\n",
      "Writing cols 14300 to 14400\n",
      "Writing cols 14400 to 14500\n",
      "Writing cols 14500 to 14600\n",
      "Writing cols 14600 to 14700\n",
      "Writing cols 14700 to 14800\n",
      "Writing cols 14800 to 14900\n",
      "Writing cols 14900 to 15000\n",
      "Writing cols 15000 to 15100\n",
      "Writing cols 15100 to 15200\n",
      "Writing cols 15200 to 15300\n",
      "Writing cols 15300 to 15400\n",
      "Writing cols 15400 to 15500\n",
      "Writing cols 15500 to 15600\n",
      "Writing cols 15600 to 15700\n",
      "Writing cols 15700 to 15800\n",
      "Writing cols 15800 to 15900\n",
      "Writing cols 15900 to 16000\n",
      "Writing cols 16000 to 16100\n",
      "Writing cols 16100 to 16200\n",
      "Writing cols 16200 to 16300\n",
      "Writing cols 16300 to 16400\n",
      "Writing cols 16400 to 16500\n",
      "Writing cols 16500 to 16600\n",
      "Writing cols 16600 to 16700\n",
      "Writing cols 16700 to 16800\n",
      "Writing cols 16800 to 16900\n",
      "Writing cols 16900 to 17000\n",
      "Writing cols 17000 to 17100\n",
      "Writing cols 17100 to 17200\n",
      "Writing cols 17200 to 17300\n",
      "Writing cols 17300 to 17400\n",
      "Writing cols 17400 to 17500\n",
      "Writing cols 17500 to 17600\n",
      "Writing cols 17600 to 17700\n",
      "Writing cols 17700 to 17800\n",
      "Writing cols 17800 to 17900\n",
      "Writing cols 17900 to 18000\n",
      "Writing cols 18000 to 18100\n",
      "Writing cols 18100 to 18200\n",
      "Writing cols 18200 to 18300\n",
      "Writing cols 18300 to 18400\n",
      "Writing cols 18400 to 18500\n",
      "Writing cols 18500 to 18600\n",
      "Writing cols 18600 to 18700\n",
      "Writing cols 18700 to 18800\n",
      "Writing cols 18800 to 18900\n",
      "Writing cols 18900 to 19000\n",
      "Writing cols 19000 to 19100\n",
      "Writing cols 19100 to 19200\n",
      "Writing cols 19200 to 19300\n",
      "Writing cols 19300 to 19400\n",
      "Writing cols 19400 to 19500\n",
      "Writing cols 19500 to 19600\n",
      "Writing cols 19600 to 19700\n",
      "Writing cols 19700 to 19800\n",
      "Writing cols 19800 to 19900\n",
      "Writing cols 19900 to 20000\n",
      "Writing cols 20000 to 20100\n",
      "Writing cols 20100 to 20200\n",
      "Writing cols 20200 to 20300\n",
      "Writing cols 20300 to 20400\n",
      "Writing cols 20400 to 20500\n",
      "Writing cols 20500 to 20600\n",
      "Writing cols 20600 to 20700\n",
      "Writing cols 20700 to 20800\n",
      "Writing cols 20800 to 20900\n",
      "Writing cols 20900 to 21000\n",
      "Writing cols 21000 to 21100\n",
      "Writing cols 21100 to 21200\n",
      "Writing cols 21200 to 21300\n",
      "Writing cols 21300 to 21400\n",
      "Writing cols 21400 to 21500\n",
      "Writing cols 21500 to 21600\n",
      "Writing cols 21600 to 21700\n",
      "Writing cols 21700 to 21800\n",
      "Writing cols 21800 to 21900\n",
      "Writing cols 21900 to 22000\n",
      "Writing cols 22000 to 22100\n",
      "Writing cols 22100 to 22200\n",
      "Writing cols 22200 to 22300\n",
      "Writing cols 22300 to 22400\n",
      "Writing cols 22400 to 22500\n",
      "Writing cols 22500 to 22600\n",
      "Writing cols 22600 to 22700\n",
      "Writing cols 22700 to 22800\n",
      "Writing cols 22800 to 22900\n",
      "Writing cols 22900 to 23000\n",
      "Writing cols 23000 to 23100\n",
      "Writing cols 23100 to 23200\n",
      "Writing cols 23200 to 23300\n",
      "Writing cols 23300 to 23400\n",
      "Writing cols 23400 to 23500\n",
      "Writing cols 23500 to 23600\n",
      "Writing cols 23600 to 23700\n",
      "Writing cols 23700 to 23800\n",
      "Writing cols 23800 to 23900\n",
      "Writing cols 23900 to 24000\n",
      "Writing cols 24000 to 24100\n",
      "Writing cols 24100 to 24200\n",
      "Writing cols 24200 to 24300\n",
      "Writing cols 24300 to 24400\n",
      "Writing cols 24400 to 24500\n",
      "Writing cols 24500 to 24600\n",
      "Writing cols 24600 to 24700\n",
      "Writing cols 24700 to 24800\n",
      "Writing cols 24800 to 24900\n",
      "Writing cols 24900 to 25000\n",
      "Writing cols 25000 to 25100\n",
      "Writing cols 25100 to 25200\n",
      "Writing cols 25200 to 25300\n",
      "Writing cols 25300 to 25400\n",
      "Writing cols 25400 to 25500\n",
      "Writing cols 25500 to 25600\n",
      "Writing cols 25600 to 25700\n",
      "Writing cols 25700 to 25800\n",
      "Writing cols 25800 to 25900\n",
      "Writing cols 25900 to 26000\n",
      "Writing cols 26000 to 26100\n",
      "Writing cols 26100 to 26200\n",
      "Writing cols 26200 to 26300\n",
      "Writing cols 26300 to 26400\n",
      "Writing cols 26400 to 26500\n",
      "Writing cols 26500 to 26600\n",
      "Writing cols 26600 to 26700\n",
      "Writing cols 26700 to 26800\n",
      "Writing cols 26800 to 26900\n",
      "Writing cols 26900 to 27000\n",
      "Writing cols 27000 to 27072\n",
      "CPU times: user 837 ms, sys: 4.18 s, total: 5.02 s\n",
      "Wall time: 14.1 s\n"
     ]
    },
    {
     "data": {
      "text/plain": [
       "<pubweb.hdf5.LocalHdf5 at 0x7ff519147e20>"
      ]
     },
     "execution_count": 15,
     "metadata": {},
     "output_type": "execute_result"
    }
   ],
   "source": [
    "%time hdf5 | ExportMatrixDense(outputFolder)\n",
    "# 14.1s"
   ]
  },
  {
   "cell_type": "code",
   "execution_count": 16,
   "metadata": {},
   "outputs": [
    {
     "name": "stdout",
     "output_type": "stream",
     "text": [
      "Export Dataset Projections\n",
      "CPU times: user 164 µs, sys: 282 µs, total: 446 µs\n",
      "Wall time: 429 µs\n"
     ]
    },
    {
     "data": {
      "text/plain": [
       "<pubweb.hdf5.LocalHdf5 at 0x7ff519147e20>"
      ]
     },
     "execution_count": 16,
     "metadata": {},
     "output_type": "execute_result"
    }
   ],
   "source": [
    "%time hdf5 | ExportProjections(outputFolder)\n",
    "# 3min3s"
   ]
  },
  {
   "cell_type": "code",
   "execution_count": 17,
   "metadata": {},
   "outputs": [
    {
     "name": "stdout",
     "output_type": "stream",
     "text": [
      "Export Dataset Tables\n",
      "CPU times: user 424 µs, sys: 0 ns, total: 424 µs\n",
      "Wall time: 408 µs\n"
     ]
    },
    {
     "data": {
      "text/plain": [
       "<pubweb.hdf5.LocalHdf5 at 0x7ff519147e20>"
      ]
     },
     "execution_count": 17,
     "metadata": {},
     "output_type": "execute_result"
    }
   ],
   "source": [
    "%time hdf5 | ExportTables(outputFolder)\n",
    "# 426us"
   ]
  },
  {
   "cell_type": "code",
   "execution_count": 18,
   "metadata": {},
   "outputs": [
    {
     "name": "stdout",
     "output_type": "stream",
     "text": [
      "Export Dataset Lists\n",
      "CPU times: user 154 µs, sys: 264 µs, total: 418 µs\n",
      "Wall time: 401 µs\n"
     ]
    },
    {
     "data": {
      "text/plain": [
       "<pubweb.hdf5.LocalHdf5 at 0x7ff519147e20>"
      ]
     },
     "execution_count": 18,
     "metadata": {},
     "output_type": "execute_result"
    }
   ],
   "source": [
    "%time hdf5 | ExportLists(outputFolder)\n",
    "#480us"
   ]
  },
  {
   "cell_type": "code",
   "execution_count": 19,
   "metadata": {},
   "outputs": [
    {
     "name": "stderr",
     "output_type": "stream",
     "text": [
      "DEBUG:root:data has shape (81736,)\n",
      "DEBUG:root:data has shape (81736,)\n"
     ]
    },
    {
     "name": "stdout",
     "output_type": "stream",
     "text": [
      "Export Attributes: observations\n"
     ]
    },
    {
     "name": "stderr",
     "output_type": "stream",
     "text": [
      "DEBUG:root:data has shape (81736,)\n",
      "DEBUG:root:data has shape (81736,)\n",
      "DEBUG:root:valueMin 1323.0, valueMax 176802.0, data is <class 'numpy.ndarray'>, shape (81736,)\n",
      "DEBUG:root:data has shape (81736,)\n",
      "DEBUG:root:valueMin 774.0, valueMax 18939.0, data is <class 'numpy.ndarray'>, shape (81736,)\n",
      "DEBUG:root:data has shape (81736,)\n",
      "DEBUG:root:valueMin 1001, valueMax 10585, data is <class 'numpy.ndarray'>, shape (81736,)\n",
      "DEBUG:root:data has shape (81736,)\n",
      "DEBUG:root:valueMin 628, valueMax 5438, data is <class 'numpy.ndarray'>, shape (81736,)\n",
      "DEBUG:root:data has shape (81736,)\n",
      "DEBUG:root:data has shape (81736,)\n",
      "DEBUG:root:data has shape (81736,)\n",
      "DEBUG:root:data has shape (81736,)\n",
      "DEBUG:root:data has shape (27072,)\n",
      "DEBUG:root:valueMin 0.0, valueMax 1.0, data is <class 'numpy.ndarray'>, shape (27072,)\n",
      "DEBUG:root:data has shape (27072,)\n",
      "DEBUG:root:data has shape (27071,)\n",
      "DEBUG:root:data has shape (27071,)\n"
     ]
    },
    {
     "name": "stdout",
     "output_type": "stream",
     "text": [
      "Export Attributes: features\n"
     ]
    },
    {
     "name": "stderr",
     "output_type": "stream",
     "text": [
      "DEBUG:root:data has shape (27071,)\n",
      "DEBUG:root:data has shape (27071,)\n",
      "DEBUG:root:data has shape (27072,)\n",
      "DEBUG:root:valueMin 0.0, valueMax 91.63963317871094, data is <class 'numpy.ndarray'>, shape (27072,)\n",
      "DEBUG:root:data has shape (27072,)\n",
      "DEBUG:root:valueMin 0, valueMax 1, data is <class 'numpy.ndarray'>, shape (27072,)\n",
      "DEBUG:root:data has shape (27072,)\n",
      "DEBUG:root:valueMin 0.0, valueMax 10331.2373046875, data is <class 'numpy.ndarray'>, shape (27072,)\n",
      "DEBUG:root:data has shape (27072,)\n",
      "DEBUG:root:valueMin 0.0, valueMax 19461.0234375, data is <class 'numpy.ndarray'>, shape (27072,)\n",
      "DEBUG:root:data has shape (27072,)\n",
      "DEBUG:root:valueMin 0.0, valueMax 19.242284774780273, data is <class 'numpy.ndarray'>, shape (27072,)\n"
     ]
    },
    {
     "name": "stdout",
     "output_type": "stream",
     "text": [
      "CPU times: user 2.11 s, sys: 19 ms, total: 2.13 s\n",
      "Wall time: 2.12 s\n"
     ]
    },
    {
     "data": {
      "text/plain": [
       "<pubweb.hdf5.LocalHdf5 at 0x7ff519147e20>"
      ]
     },
     "execution_count": 19,
     "metadata": {},
     "output_type": "execute_result"
    }
   ],
   "source": [
    "%time hdf5 | ExportAttributes(outputFolder)\n",
    "# 2min 7 s"
   ]
  },
  {
   "cell_type": "code",
   "execution_count": 20,
   "metadata": {},
   "outputs": [
    {
     "name": "stderr",
     "output_type": "stream",
     "text": [
      "INFO:root:Reading from /data/notebooks/pubweb/features/pw_symbol/metadata.json for /data/notebooks/pubweb/summary/color/features\n",
      "INFO:root:Reading from /data/notebooks/pubweb/features/pw_ensembl/metadata.json for /data/notebooks/pubweb/summary/color/features\n",
      "INFO:root:Reading from /data/notebooks/pubweb/features/gene/metadata.json for /data/notebooks/pubweb/summary/color/features\n",
      "INFO:root:Reading from /data/notebooks/pubweb/features/vst_variance_expected/metadata.json for /data/notebooks/pubweb/summary/color/features\n",
      "INFO:root:Reading from /data/notebooks/pubweb/features/vst_mean/metadata.json for /data/notebooks/pubweb/summary/color/features\n",
      "INFO:root:Reading from /data/notebooks/pubweb/features/pw_hcid/metadata.json for /data/notebooks/pubweb/summary/color/features\n",
      "INFO:root:Reading from /data/notebooks/pubweb/features/vst_variable/metadata.json for /data/notebooks/pubweb/summary/color/features\n",
      "INFO:root:Reading from /data/notebooks/pubweb/features/Selected/metadata.json for /data/notebooks/pubweb/summary/color/features\n",
      "INFO:root:Reading from /data/notebooks/pubweb/features/vst_variance/metadata.json for /data/notebooks/pubweb/summary/color/features\n",
      "INFO:root:Reading from /data/notebooks/pubweb/features/vst_variance_standardized/metadata.json for /data/notebooks/pubweb/summary/color/features\n",
      "INFO:root:Reading from /data/notebooks/pubweb/features/pw_entrez/metadata.json for /data/notebooks/pubweb/summary/color/features\n",
      "INFO:root:Reading from /data/notebooks/pubweb/observations/infect/metadata.json for /data/notebooks/pubweb/summary/color/observations\n",
      "INFO:root:Reading from /data/notebooks/pubweb/observations/id/metadata.json for /data/notebooks/pubweb/summary/color/observations\n",
      "INFO:root:Reading from /data/notebooks/pubweb/observations/nFeature_RNA/metadata.json for /data/notebooks/pubweb/summary/color/observations\n",
      "INFO:root:Reading from /data/notebooks/pubweb/observations/sample_name/metadata.json for /data/notebooks/pubweb/summary/color/observations\n",
      "INFO:root:Reading from /data/notebooks/pubweb/observations/method/metadata.json for /data/notebooks/pubweb/summary/color/observations\n",
      "INFO:root:Reading from /data/notebooks/pubweb/observations/nCount_Unspliced/metadata.json for /data/notebooks/pubweb/summary/color/observations\n",
      "INFO:root:Reading from /data/notebooks/pubweb/observations/nCount_RNA/metadata.json for /data/notebooks/pubweb/summary/color/observations\n",
      "INFO:root:Reading from /data/notebooks/pubweb/observations/strain/metadata.json for /data/notebooks/pubweb/summary/color/observations\n",
      "INFO:root:Reading from /data/notebooks/pubweb/observations/orig_ident/metadata.json for /data/notebooks/pubweb/summary/color/observations\n",
      "INFO:root:Reading from /data/notebooks/pubweb/observations/nFeature_Unspliced/metadata.json for /data/notebooks/pubweb/summary/color/observations\n",
      "INFO:root:Reading from /data/notebooks/pubweb/observations/sample_id/metadata.json for /data/notebooks/pubweb/summary/color/observations\n"
     ]
    },
    {
     "name": "stdout",
     "output_type": "stream",
     "text": [
      "Summarize Colors\n",
      "Export Colors: features\n",
      "Export Colors: observations\n",
      "CPU times: user 19.4 ms, sys: 5.26 ms, total: 24.7 ms\n",
      "Wall time: 20.5 ms\n"
     ]
    },
    {
     "data": {
      "text/plain": [
       "<pubweb.hdf5.LocalHdf5 at 0x7ff519147e20>"
      ]
     },
     "execution_count": 20,
     "metadata": {},
     "output_type": "execute_result"
    }
   ],
   "source": [
    "%time hdf5 | SummarizeColors(outputFolder)\n",
    "# 59.4ms"
   ]
  },
  {
   "cell_type": "code",
   "execution_count": 21,
   "metadata": {},
   "outputs": [
    {
     "name": "stdout",
     "output_type": "stream",
     "text": [
      "matrix: /data/notebooks/pubweb/matrix\n",
      "placeholder\n",
      "CPU times: user 79 µs, sys: 2.94 ms, total: 3.02 ms\n",
      "Wall time: 2.37 ms\n"
     ]
    }
   ],
   "source": [
    "%time hdf5 | SummerizeManifest(outputFolder)\n",
    "# 4.2ms"
   ]
  },
  {
   "cell_type": "code",
   "execution_count": null,
   "metadata": {},
   "outputs": [],
   "source": []
  },
  {
   "cell_type": "code",
   "execution_count": null,
   "metadata": {},
   "outputs": [],
   "source": []
  },
  {
   "cell_type": "code",
   "execution_count": null,
   "metadata": {},
   "outputs": [],
   "source": []
  },
  {
   "cell_type": "code",
   "execution_count": null,
   "metadata": {},
   "outputs": [],
   "source": []
  },
  {
   "cell_type": "code",
   "execution_count": null,
   "metadata": {},
   "outputs": [],
   "source": []
  },
  {
   "cell_type": "code",
   "execution_count": null,
   "metadata": {},
   "outputs": [],
   "source": []
  },
  {
   "cell_type": "code",
   "execution_count": null,
   "metadata": {},
   "outputs": [],
   "source": []
  },
  {
   "cell_type": "code",
   "execution_count": null,
   "metadata": {},
   "outputs": [],
   "source": []
  },
  {
   "cell_type": "code",
   "execution_count": null,
   "metadata": {},
   "outputs": [],
   "source": []
  },
  {
   "cell_type": "code",
   "execution_count": null,
   "metadata": {},
   "outputs": [],
   "source": []
  },
  {
   "cell_type": "code",
   "execution_count": null,
   "metadata": {},
   "outputs": [],
   "source": []
  },
  {
   "cell_type": "code",
   "execution_count": null,
   "metadata": {},
   "outputs": [],
   "source": []
  },
  {
   "cell_type": "code",
   "execution_count": null,
   "metadata": {},
   "outputs": [],
   "source": []
  },
  {
   "cell_type": "code",
   "execution_count": null,
   "metadata": {},
   "outputs": [],
   "source": []
  },
  {
   "cell_type": "code",
   "execution_count": null,
   "metadata": {},
   "outputs": [],
   "source": []
  }
 ],
 "metadata": {
  "kernelspec": {
   "display_name": "Python 3",
   "language": "python",
   "name": "python3"
  },
  "language_info": {
   "codemirror_mode": {
    "name": "ipython",
    "version": 3
   },
   "file_extension": ".py",
   "mimetype": "text/x-python",
   "name": "python",
   "nbconvert_exporter": "python",
   "pygments_lexer": "ipython3",
   "version": "3.8.5"
  }
 },
 "nbformat": 4,
 "nbformat_minor": 4
}
