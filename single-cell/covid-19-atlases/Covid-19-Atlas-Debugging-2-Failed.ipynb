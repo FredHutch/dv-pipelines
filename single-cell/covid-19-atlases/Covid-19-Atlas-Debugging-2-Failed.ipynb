{
 "cells": [
  {
   "cell_type": "code",
   "execution_count": 1,
   "metadata": {},
   "outputs": [],
   "source": [
    "import argparse\n",
    "import logging\n",
    "from operator import mul\n",
    "import time\n",
    "import os\n",
    "\n",
    "import pubweb.singlecell # import AnnDataSparse\n",
    "from pubweb.hdf5 import Hdf5\n",
    "from pubweb.commands.convert.singlecell.anndata import ImportAnndata\n",
    "from pubweb.commands.convert.singlecell.cellranger import ImportCellRanger\n",
    "from pubweb.commands.validate.dimensions import ValidateDimensions\n",
    "from pubweb.commands.annotate.geneid import AnnotateGeneId\n",
    "from pubweb.commands.annotate.geneset import AnnotateGeneset\n",
    "from pubweb.commands.export.lists import ExportLists\n",
    "from pubweb.commands.export.attributes import ExportAttributes\n",
    "from pubweb.commands.export.tables import ExportTables\n",
    "from pubweb.commands.export.projections import ExportProjections\n",
    "from pubweb.commands.export.spatial import ExportSpatial\n",
    "from pubweb.commands.export.matrix_sparse import ExportMatrixSparse\n",
    "from pubweb.commands.export.matrix_dense import ExportMatrixDense\n",
    "from pubweb.commands.summarize.genes import SummarizeGenes\n",
    "from pubweb.commands.summarize.genemap import SummarizeGeneMap\n",
    "from pubweb.commands.summarize.colors import SummarizeColors\n",
    "from pubweb.commands.summarize.manifest import SummerizeManifest\n"
   ]
  },
  {
   "cell_type": "code",
   "execution_count": 2,
   "metadata": {},
   "outputs": [],
   "source": [
    "import requests\n",
    "import os\n",
    "import h5py\n",
    "import pandas\n",
    "import numpy as np\n",
    "import boto3\n",
    "import re\n",
    "from io import BytesIO\n",
    "from urllib.parse import urlparse\n",
    "from shutil import copyfile\n",
    "from pathlib import Path\n",
    "from pubweb.enums import Attribute\n",
    "from pubweb.hdf5 import Hdf5\n",
    "from pubweb.commands.command import Command\n",
    "import logging\n"
   ]
  },
  {
   "cell_type": "code",
   "execution_count": 3,
   "metadata": {},
   "outputs": [],
   "source": [
    "import anndata"
   ]
  },
  {
   "cell_type": "code",
   "execution_count": 4,
   "metadata": {},
   "outputs": [],
   "source": [
    "logging.basicConfig(level='DEBUG')"
   ]
  },
  {
   "cell_type": "code",
   "execution_count": 5,
   "metadata": {},
   "outputs": [],
   "source": [
    "datasetName='lung-upper-airway-h1299'\n",
    "fileToConvert = '/data/notebooks/input/input.h5ad'\n",
    "inputFile = '/data/notebooks/input/convert.hdf5'\n",
    "outputFolder = '/data/notebooks/pubweb'\n",
    "species = 'human'\n",
    "overwriteHdf5 = True\n",
    "python_wd = '/opt/pubweb'"
   ]
  },
  {
   "cell_type": "code",
   "execution_count": null,
   "metadata": {},
   "outputs": [],
   "source": [
    "adata = anndata.read_h5ad(fileToConvert, backed='r')\n",
    "adata.write(inputFile)"
   ]
  },
  {
   "cell_type": "code",
   "execution_count": 7,
   "metadata": {},
   "outputs": [
    {
     "name": "stdout",
     "output_type": "stream",
     "text": [
      "Moving /var/index group\n",
      "Moving /obs/index group\n"
     ]
    }
   ],
   "source": [
    "with h5py.File(inputFile, \"r+\") as data:\n",
    "    if 'index' in data['var'].keys():\n",
    "        print('Moving /var/index group')\n",
    "        data.move('var/index', 'var/_index')\n",
    "    if 'index' in data['obs'].keys():\n",
    "        print('Moving /obs/index group')\n",
    "        data.move('obs/index', 'obs/_index')"
   ]
  },
  {
   "cell_type": "code",
   "execution_count": null,
   "metadata": {},
   "outputs": [],
   "source": []
  },
  {
   "cell_type": "code",
   "execution_count": null,
   "metadata": {},
   "outputs": [],
   "source": []
  },
  {
   "cell_type": "code",
   "execution_count": null,
   "metadata": {},
   "outputs": [],
   "source": []
  },
  {
   "cell_type": "markdown",
   "metadata": {},
   "source": [
    "### data['X']"
   ]
  },
  {
   "cell_type": "code",
   "execution_count": null,
   "metadata": {},
   "outputs": [],
   "source": [
    "data['X'].keys()\n",
    "# 3 members, ['data', 'indices', 'indptr']\n"
   ]
  },
  {
   "cell_type": "code",
   "execution_count": null,
   "metadata": {},
   "outputs": [],
   "source": []
  },
  {
   "cell_type": "code",
   "execution_count": null,
   "metadata": {},
   "outputs": [],
   "source": []
  },
  {
   "cell_type": "markdown",
   "metadata": {},
   "source": [
    "### data['var']"
   ]
  },
  {
   "cell_type": "code",
   "execution_count": null,
   "metadata": {},
   "outputs": [],
   "source": [
    "data['var'].keys()\n",
    "# looks like it's a dataset of tuples. Each tuple"
   ]
  },
  {
   "cell_type": "code",
   "execution_count": null,
   "metadata": {},
   "outputs": [],
   "source": [
    "# variables/features\n",
    "# var is a dataset, not a group\n",
    "# yep, 'FAM138A' is a gene\n",
    "\n",
    "#data.move('')\n",
    "#data['var'][()]"
   ]
  },
  {
   "cell_type": "code",
   "execution_count": null,
   "metadata": {},
   "outputs": [],
   "source": [
    "type(data['var'])"
   ]
  },
  {
   "cell_type": "code",
   "execution_count": null,
   "metadata": {},
   "outputs": [],
   "source": []
  },
  {
   "cell_type": "code",
   "execution_count": null,
   "metadata": {},
   "outputs": [],
   "source": []
  },
  {
   "cell_type": "code",
   "execution_count": null,
   "metadata": {},
   "outputs": [],
   "source": [
    "#"
   ]
  },
  {
   "cell_type": "markdown",
   "metadata": {},
   "source": [
    "### data['obs']"
   ]
  },
  {
   "cell_type": "code",
   "execution_count": null,
   "metadata": {},
   "outputs": [],
   "source": [
    "data['obs'].keys()"
   ]
  },
  {
   "cell_type": "code",
   "execution_count": null,
   "metadata": {},
   "outputs": [],
   "source": []
  },
  {
   "cell_type": "code",
   "execution_count": null,
   "metadata": {},
   "outputs": [],
   "source": []
  },
  {
   "cell_type": "markdown",
   "metadata": {},
   "source": [
    "### data['obsm']"
   ]
  },
  {
   "cell_type": "code",
   "execution_count": null,
   "metadata": {},
   "outputs": [],
   "source": [
    "data['obsm'].keys()"
   ]
  },
  {
   "cell_type": "code",
   "execution_count": null,
   "metadata": {},
   "outputs": [],
   "source": [
    "%time hdf5 | ImportAnndata(inputFile, datasetName)"
   ]
  },
  {
   "cell_type": "code",
   "execution_count": null,
   "metadata": {},
   "outputs": [],
   "source": []
  },
  {
   "cell_type": "code",
   "execution_count": null,
   "metadata": {},
   "outputs": [],
   "source": []
  },
  {
   "cell_type": "code",
   "execution_count": null,
   "metadata": {},
   "outputs": [],
   "source": []
  },
  {
   "cell_type": "code",
   "execution_count": null,
   "metadata": {},
   "outputs": [],
   "source": []
  },
  {
   "cell_type": "code",
   "execution_count": null,
   "metadata": {},
   "outputs": [],
   "source": []
  },
  {
   "cell_type": "code",
   "execution_count": null,
   "metadata": {},
   "outputs": [],
   "source": []
  },
  {
   "cell_type": "code",
   "execution_count": null,
   "metadata": {},
   "outputs": [],
   "source": []
  },
  {
   "cell_type": "code",
   "execution_count": null,
   "metadata": {},
   "outputs": [],
   "source": []
  },
  {
   "cell_type": "code",
   "execution_count": null,
   "metadata": {},
   "outputs": [],
   "source": []
  },
  {
   "cell_type": "code",
   "execution_count": null,
   "metadata": {},
   "outputs": [],
   "source": []
  },
  {
   "cell_type": "code",
   "execution_count": null,
   "metadata": {},
   "outputs": [],
   "source": []
  },
  {
   "cell_type": "code",
   "execution_count": null,
   "metadata": {},
   "outputs": [],
   "source": []
  },
  {
   "cell_type": "code",
   "execution_count": null,
   "metadata": {},
   "outputs": [],
   "source": []
  },
  {
   "cell_type": "code",
   "execution_count": null,
   "metadata": {},
   "outputs": [],
   "source": []
  }
 ],
 "metadata": {
  "kernelspec": {
   "display_name": "Python 3",
   "language": "python",
   "name": "python3"
  },
  "language_info": {
   "codemirror_mode": {
    "name": "ipython",
    "version": 3
   },
   "file_extension": ".py",
   "mimetype": "text/x-python",
   "name": "python",
   "nbconvert_exporter": "python",
   "pygments_lexer": "ipython3",
   "version": "3.8.5"
  }
 },
 "nbformat": 4,
 "nbformat_minor": 4
}
