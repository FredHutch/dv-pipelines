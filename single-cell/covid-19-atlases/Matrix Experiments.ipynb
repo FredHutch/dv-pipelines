{
 "cells": [
  {
   "cell_type": "code",
   "execution_count": 1,
   "metadata": {},
   "outputs": [],
   "source": [
    "def compute_matrix(dimension, source_list, placeholder):\n",
    "    target_list = [0 for x in range(dimension*dimension)]\n",
    "    forward_counter = 0\n",
    "    for row in range(0, dimension):\n",
    "        for col in range(0, dimension):\n",
    "            if col > row:\n",
    "                break\n",
    "            lower_idx = row * dimension + col\n",
    "            upper_idx = col * dimension + row\n",
    "            if row == col:\n",
    "                #print(f\"Row {row} col {col}, mem {lower_idx} value {correlation_placeholder}\")\n",
    "                target_list[lower_idx] = placeholder\n",
    "            else:  #col < row:\n",
    "                # only go through the lower matrix. Swap rows & columns to populate the upper matrix\n",
    "                #print(f\"Row {row} col {col}, mem {lower_idx} value {source_list[forward_counter]} sourceidx {forward_counter}\")\n",
    "                target_list[lower_idx] = source_list[forward_counter]\n",
    "                #print(f\"Row {col} col {row}, mem {upper_idx} value {source_list[forward_counter]} sourceidx {forward_counter}\")\n",
    "                target_list[upper_idx] = source_list[forward_counter]\n",
    "                forward_counter += 1\n",
    "    return target_list"
   ]
  },
  {
   "cell_type": "code",
   "execution_count": 4,
   "metadata": {},
   "outputs": [],
   "source": [
    "dimension = 10000\n",
    "correlation_placeholder = 1.0\n",
    "source_list = [x for x in range(0, dimension*dimension)]"
   ]
  },
  {
   "cell_type": "code",
   "execution_count": 5,
   "metadata": {},
   "outputs": [
    {
     "name": "stdout",
     "output_type": "stream",
     "text": [
      "CPU times: user 24 s, sys: 1.85 s, total: 25.8 s\n",
      "Wall time: 26.1 s\n"
     ]
    }
   ],
   "source": [
    "%time target = compute_matrix(dimension, source_list, correlation_placeholder)"
   ]
  },
  {
   "cell_type": "code",
   "execution_count": null,
   "metadata": {},
   "outputs": [],
   "source": []
  },
  {
   "cell_type": "code",
   "execution_count": null,
   "metadata": {},
   "outputs": [],
   "source": []
  }
 ],
 "metadata": {
  "kernelspec": {
   "display_name": "Python 3",
   "language": "python",
   "name": "python3"
  },
  "language_info": {
   "codemirror_mode": {
    "name": "ipython",
    "version": 3
   },
   "file_extension": ".py",
   "mimetype": "text/x-python",
   "name": "python",
   "nbconvert_exporter": "python",
   "pygments_lexer": "ipython3",
   "version": "3.8.5"
  }
 },
 "nbformat": 4,
 "nbformat_minor": 4
}
